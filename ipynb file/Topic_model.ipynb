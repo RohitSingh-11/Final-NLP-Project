{
 "cells": [
  {
   "cell_type": "code",
   "execution_count": 1,
   "metadata": {},
   "outputs": [],
   "source": [
    "import pandas as pd\n",
    "import numpy as np\n",
    "import re\n",
    "import string"
   ]
  },
  {
   "cell_type": "code",
   "execution_count": 2,
   "metadata": {},
   "outputs": [],
   "source": [
    "import spacy"
   ]
  },
  {
   "cell_type": "code",
   "execution_count": 3,
   "metadata": {},
   "outputs": [],
   "source": [
    "nlp=spacy.load('en_core_web_lg')"
   ]
  },
  {
   "cell_type": "code",
   "execution_count": 207,
   "metadata": {},
   "outputs": [
    {
     "data": {
      "text/html": [
       "<div>\n",
       "<style scoped>\n",
       "    .dataframe tbody tr th:only-of-type {\n",
       "        vertical-align: middle;\n",
       "    }\n",
       "\n",
       "    .dataframe tbody tr th {\n",
       "        vertical-align: top;\n",
       "    }\n",
       "\n",
       "    .dataframe thead th {\n",
       "        text-align: right;\n",
       "    }\n",
       "</style>\n",
       "<table border=\"1\" class=\"dataframe\">\n",
       "  <thead>\n",
       "    <tr style=\"text-align: right;\">\n",
       "      <th></th>\n",
       "      <th>data</th>\n",
       "      <th>category</th>\n",
       "    </tr>\n",
       "  </thead>\n",
       "  <tbody>\n",
       "    <tr>\n",
       "      <th>0</th>\n",
       "      <td>Sport pertains to any form of competitive phys...</td>\n",
       "      <td>sports</td>\n",
       "    </tr>\n",
       "    <tr>\n",
       "      <th>1</th>\n",
       "      <td>Sports can, through casual or organized parti...</td>\n",
       "      <td>sports</td>\n",
       "    </tr>\n",
       "    <tr>\n",
       "      <th>2</th>\n",
       "      <td>Hundreds of sports exist, from those between ...</td>\n",
       "      <td>sports</td>\n",
       "    </tr>\n",
       "    <tr>\n",
       "      <th>3</th>\n",
       "      <td>In certain sports such as racing, many contes...</td>\n",
       "      <td>sports</td>\n",
       "    </tr>\n",
       "    <tr>\n",
       "      <th>4</th>\n",
       "      <td>Some sports allow a \"tie\" or \"draw\", in which...</td>\n",
       "      <td>sports</td>\n",
       "    </tr>\n",
       "  </tbody>\n",
       "</table>\n",
       "</div>"
      ],
      "text/plain": [
       "                                                data category\n",
       "0  Sport pertains to any form of competitive phys...   sports\n",
       "1   Sports can, through casual or organized parti...   sports\n",
       "2   Hundreds of sports exist, from those between ...   sports\n",
       "3   In certain sports such as racing, many contes...   sports\n",
       "4   Some sports allow a \"tie\" or \"draw\", in which...   sports"
      ]
     },
     "execution_count": 207,
     "metadata": {},
     "output_type": "execute_result"
    }
   ],
   "source": [
    "df = pd.read_csv('combined1_csv.csv')\n",
    "df.head()"
   ]
  },
  {
   "cell_type": "code",
   "execution_count": 208,
   "metadata": {},
   "outputs": [],
   "source": [
    "# df.drop('article_link',axis=1,inplace=True)\n",
    "def clean_text(text):\n",
    "    text = text.lower()\n",
    "    text = \" \".join(filter(lambda x:x[0]!='@', text.split()))\n",
    "#     emoji = re.compile(\"[\"\n",
    "#                            u\"\\U0001F600-\\U0001FFFF\"  # emoticons\n",
    "#                            u\"\\U0001F300-\\U0001F5FF\"  # symbols & pictographs\n",
    "#                            u\"\\U0001F680-\\U0001F6FF\"  # transport & map symbols\n",
    "#                            u\"\\U0001F1E0-\\U0001F1FF\"  # flags (iOS)\n",
    "#                            u\"\\U00002702-\\U000027B0\"\n",
    "#                            u\"\\U000024C2-\\U0001F251\"\n",
    "#                            \"]+\", flags=re.UNICODE)\n",
    "   \n",
    "#     text = emoji.sub(r'', text)\n",
    "    text = text.lower()\n",
    "    text = re.sub(r\"[,.\\\"\\'!@#$%^&*(){}?/;`~:<>+=-]\", \"\", text)\n",
    "    return text"
   ]
  },
  {
   "cell_type": "code",
   "execution_count": 209,
   "metadata": {},
   "outputs": [],
   "source": [
    "new_text=[]\n",
    "for text in df['data']:  \n",
    "      new_text.append(clean_text(text))\n",
    "df['clean_text']=new_text"
   ]
  },
  {
   "cell_type": "code",
   "execution_count": 210,
   "metadata": {},
   "outputs": [
    {
     "name": "stderr",
     "output_type": "stream",
     "text": [
      "c:\\users\\asus\\appdata\\local\\programs\\python\\python37\\lib\\site-packages\\ipykernel_launcher.py:1: FutureWarning: The default value of regex will change from True to False in a future version.\n",
      "  \"\"\"Entry point for launching an IPython kernel.\n"
     ]
    },
    {
     "data": {
      "text/html": [
       "<div>\n",
       "<style scoped>\n",
       "    .dataframe tbody tr th:only-of-type {\n",
       "        vertical-align: middle;\n",
       "    }\n",
       "\n",
       "    .dataframe tbody tr th {\n",
       "        vertical-align: top;\n",
       "    }\n",
       "\n",
       "    .dataframe thead th {\n",
       "        text-align: right;\n",
       "    }\n",
       "</style>\n",
       "<table border=\"1\" class=\"dataframe\">\n",
       "  <thead>\n",
       "    <tr style=\"text-align: right;\">\n",
       "      <th></th>\n",
       "      <th>data</th>\n",
       "      <th>category</th>\n",
       "      <th>clean_text</th>\n",
       "      <th>tidy_tweet</th>\n",
       "    </tr>\n",
       "  </thead>\n",
       "  <tbody>\n",
       "    <tr>\n",
       "      <th>0</th>\n",
       "      <td>Sport pertains to any form of competitive phys...</td>\n",
       "      <td>sports</td>\n",
       "      <td>sport pertains to any form of competitive phys...</td>\n",
       "      <td>sport pertains to any form of competitive phys...</td>\n",
       "    </tr>\n",
       "    <tr>\n",
       "      <th>1</th>\n",
       "      <td>Sports can, through casual or organized parti...</td>\n",
       "      <td>sports</td>\n",
       "      <td>sports can through casual or organized partici...</td>\n",
       "      <td>sports can through casual or organized partici...</td>\n",
       "    </tr>\n",
       "    <tr>\n",
       "      <th>2</th>\n",
       "      <td>Hundreds of sports exist, from those between ...</td>\n",
       "      <td>sports</td>\n",
       "      <td>hundreds of sports exist from those between si...</td>\n",
       "      <td>hundreds of sports exist from those between si...</td>\n",
       "    </tr>\n",
       "    <tr>\n",
       "      <th>3</th>\n",
       "      <td>In certain sports such as racing, many contes...</td>\n",
       "      <td>sports</td>\n",
       "      <td>in certain sports such as racing many contesta...</td>\n",
       "      <td>in certain sports such as racing many contesta...</td>\n",
       "    </tr>\n",
       "    <tr>\n",
       "      <th>4</th>\n",
       "      <td>Some sports allow a \"tie\" or \"draw\", in which...</td>\n",
       "      <td>sports</td>\n",
       "      <td>some sports allow a tie or draw in which there...</td>\n",
       "      <td>some sports allow a tie or draw in which there...</td>\n",
       "    </tr>\n",
       "    <tr>\n",
       "      <th>5</th>\n",
       "      <td>A number of contests may be arranged in a tou...</td>\n",
       "      <td>sports</td>\n",
       "      <td>a number of contests may be arranged in a tour...</td>\n",
       "      <td>a number of contests may be arranged in a tour...</td>\n",
       "    </tr>\n",
       "    <tr>\n",
       "      <th>6</th>\n",
       "      <td>Many sports leagues make an annual champion b...</td>\n",
       "      <td>sports</td>\n",
       "      <td>many sports leagues make an annual champion by...</td>\n",
       "      <td>many sports leagues make an annual champion by...</td>\n",
       "    </tr>\n",
       "    <tr>\n",
       "      <th>7</th>\n",
       "      <td>Sport is generally recognised as system of act...</td>\n",
       "      <td>sports</td>\n",
       "      <td>sport is generally recognised as system of act...</td>\n",
       "      <td>sport is generally recognised as system of act...</td>\n",
       "    </tr>\n",
       "    <tr>\n",
       "      <th>8</th>\n",
       "      <td>Other organisations, such as the Council of E...</td>\n",
       "      <td>sports</td>\n",
       "      <td>other organisations such as the council of eur...</td>\n",
       "      <td>other organisations such as the council of eur...</td>\n",
       "    </tr>\n",
       "    <tr>\n",
       "      <th>9</th>\n",
       "      <td>However, a number of competitive, but non-phy...</td>\n",
       "      <td>sports</td>\n",
       "      <td>however a number of competitive but nonphysica...</td>\n",
       "      <td>however a number of competitive but nonphysica...</td>\n",
       "    </tr>\n",
       "  </tbody>\n",
       "</table>\n",
       "</div>"
      ],
      "text/plain": [
       "                                                data category  \\\n",
       "0  Sport pertains to any form of competitive phys...   sports   \n",
       "1   Sports can, through casual or organized parti...   sports   \n",
       "2   Hundreds of sports exist, from those between ...   sports   \n",
       "3   In certain sports such as racing, many contes...   sports   \n",
       "4   Some sports allow a \"tie\" or \"draw\", in which...   sports   \n",
       "5   A number of contests may be arranged in a tou...   sports   \n",
       "6   Many sports leagues make an annual champion b...   sports   \n",
       "7  Sport is generally recognised as system of act...   sports   \n",
       "8   Other organisations, such as the Council of E...   sports   \n",
       "9   However, a number of competitive, but non-phy...   sports   \n",
       "\n",
       "                                          clean_text  \\\n",
       "0  sport pertains to any form of competitive phys...   \n",
       "1  sports can through casual or organized partici...   \n",
       "2  hundreds of sports exist from those between si...   \n",
       "3  in certain sports such as racing many contesta...   \n",
       "4  some sports allow a tie or draw in which there...   \n",
       "5  a number of contests may be arranged in a tour...   \n",
       "6  many sports leagues make an annual champion by...   \n",
       "7  sport is generally recognised as system of act...   \n",
       "8  other organisations such as the council of eur...   \n",
       "9  however a number of competitive but nonphysica...   \n",
       "\n",
       "                                          tidy_tweet  \n",
       "0  sport pertains to any form of competitive phys...  \n",
       "1  sports can through casual or organized partici...  \n",
       "2  hundreds of sports exist from those between si...  \n",
       "3  in certain sports such as racing many contesta...  \n",
       "4  some sports allow a tie or draw in which there...  \n",
       "5  a number of contests may be arranged in a tour...  \n",
       "6  many sports leagues make an annual champion by...  \n",
       "7  sport is generally recognised as system of act...  \n",
       "8  other organisations such as the council of eur...  \n",
       "9  however a number of competitive but nonphysica...  "
      ]
     },
     "execution_count": 210,
     "metadata": {},
     "output_type": "execute_result"
    }
   ],
   "source": [
    "df['tidy_tweet']=df['clean_text'].str.replace(\"[^a-zA-Z#]\",\" \")\n",
    "df.head(10)"
   ]
  },
  {
   "cell_type": "code",
   "execution_count": 211,
   "metadata": {},
   "outputs": [],
   "source": [
    "df['tidy_tweet']=df['tidy_tweet'].apply(lambda x: ' '.join([w for w in x.split() if len(w)>3]))"
   ]
  },
  {
   "cell_type": "code",
   "execution_count": 212,
   "metadata": {},
   "outputs": [
    {
     "data": {
      "text/html": [
       "<div>\n",
       "<style scoped>\n",
       "    .dataframe tbody tr th:only-of-type {\n",
       "        vertical-align: middle;\n",
       "    }\n",
       "\n",
       "    .dataframe tbody tr th {\n",
       "        vertical-align: top;\n",
       "    }\n",
       "\n",
       "    .dataframe thead th {\n",
       "        text-align: right;\n",
       "    }\n",
       "</style>\n",
       "<table border=\"1\" class=\"dataframe\">\n",
       "  <thead>\n",
       "    <tr style=\"text-align: right;\">\n",
       "      <th></th>\n",
       "      <th>data</th>\n",
       "      <th>category</th>\n",
       "      <th>clean_text</th>\n",
       "      <th>tidy_tweet</th>\n",
       "    </tr>\n",
       "  </thead>\n",
       "  <tbody>\n",
       "    <tr>\n",
       "      <th>0</th>\n",
       "      <td>Sport pertains to any form of competitive phys...</td>\n",
       "      <td>sports</td>\n",
       "      <td>sport pertains to any form of competitive phys...</td>\n",
       "      <td>sport pertains form competitive physical activ...</td>\n",
       "    </tr>\n",
       "    <tr>\n",
       "      <th>1</th>\n",
       "      <td>Sports can, through casual or organized parti...</td>\n",
       "      <td>sports</td>\n",
       "      <td>sports can through casual or organized partici...</td>\n",
       "      <td>sports through casual organized participation ...</td>\n",
       "    </tr>\n",
       "    <tr>\n",
       "      <th>2</th>\n",
       "      <td>Hundreds of sports exist, from those between ...</td>\n",
       "      <td>sports</td>\n",
       "      <td>hundreds of sports exist from those between si...</td>\n",
       "      <td>hundreds sports exist from those between singl...</td>\n",
       "    </tr>\n",
       "    <tr>\n",
       "      <th>3</th>\n",
       "      <td>In certain sports such as racing, many contes...</td>\n",
       "      <td>sports</td>\n",
       "      <td>in certain sports such as racing many contesta...</td>\n",
       "      <td>certain sports such racing many contestants co...</td>\n",
       "    </tr>\n",
       "    <tr>\n",
       "      <th>4</th>\n",
       "      <td>Some sports allow a \"tie\" or \"draw\", in which...</td>\n",
       "      <td>sports</td>\n",
       "      <td>some sports allow a tie or draw in which there...</td>\n",
       "      <td>some sports allow draw which there single winn...</td>\n",
       "    </tr>\n",
       "    <tr>\n",
       "      <th>5</th>\n",
       "      <td>A number of contests may be arranged in a tou...</td>\n",
       "      <td>sports</td>\n",
       "      <td>a number of contests may be arranged in a tour...</td>\n",
       "      <td>number contests arranged tournament producing ...</td>\n",
       "    </tr>\n",
       "    <tr>\n",
       "      <th>6</th>\n",
       "      <td>Many sports leagues make an annual champion b...</td>\n",
       "      <td>sports</td>\n",
       "      <td>many sports leagues make an annual champion by...</td>\n",
       "      <td>many sports leagues make annual champion arran...</td>\n",
       "    </tr>\n",
       "    <tr>\n",
       "      <th>7</th>\n",
       "      <td>Sport is generally recognised as system of act...</td>\n",
       "      <td>sports</td>\n",
       "      <td>sport is generally recognised as system of act...</td>\n",
       "      <td>sport generally recognised system activities b...</td>\n",
       "    </tr>\n",
       "    <tr>\n",
       "      <th>8</th>\n",
       "      <td>Other organisations, such as the Council of E...</td>\n",
       "      <td>sports</td>\n",
       "      <td>other organisations such as the council of eur...</td>\n",
       "      <td>other organisations such council europe preclu...</td>\n",
       "    </tr>\n",
       "    <tr>\n",
       "      <th>9</th>\n",
       "      <td>However, a number of competitive, but non-phy...</td>\n",
       "      <td>sports</td>\n",
       "      <td>however a number of competitive but nonphysica...</td>\n",
       "      <td>however number competitive nonphysical activit...</td>\n",
       "    </tr>\n",
       "  </tbody>\n",
       "</table>\n",
       "</div>"
      ],
      "text/plain": [
       "                                                data category  \\\n",
       "0  Sport pertains to any form of competitive phys...   sports   \n",
       "1   Sports can, through casual or organized parti...   sports   \n",
       "2   Hundreds of sports exist, from those between ...   sports   \n",
       "3   In certain sports such as racing, many contes...   sports   \n",
       "4   Some sports allow a \"tie\" or \"draw\", in which...   sports   \n",
       "5   A number of contests may be arranged in a tou...   sports   \n",
       "6   Many sports leagues make an annual champion b...   sports   \n",
       "7  Sport is generally recognised as system of act...   sports   \n",
       "8   Other organisations, such as the Council of E...   sports   \n",
       "9   However, a number of competitive, but non-phy...   sports   \n",
       "\n",
       "                                          clean_text  \\\n",
       "0  sport pertains to any form of competitive phys...   \n",
       "1  sports can through casual or organized partici...   \n",
       "2  hundreds of sports exist from those between si...   \n",
       "3  in certain sports such as racing many contesta...   \n",
       "4  some sports allow a tie or draw in which there...   \n",
       "5  a number of contests may be arranged in a tour...   \n",
       "6  many sports leagues make an annual champion by...   \n",
       "7  sport is generally recognised as system of act...   \n",
       "8  other organisations such as the council of eur...   \n",
       "9  however a number of competitive but nonphysica...   \n",
       "\n",
       "                                          tidy_tweet  \n",
       "0  sport pertains form competitive physical activ...  \n",
       "1  sports through casual organized participation ...  \n",
       "2  hundreds sports exist from those between singl...  \n",
       "3  certain sports such racing many contestants co...  \n",
       "4  some sports allow draw which there single winn...  \n",
       "5  number contests arranged tournament producing ...  \n",
       "6  many sports leagues make annual champion arran...  \n",
       "7  sport generally recognised system activities b...  \n",
       "8  other organisations such council europe preclu...  \n",
       "9  however number competitive nonphysical activit...  "
      ]
     },
     "execution_count": 212,
     "metadata": {},
     "output_type": "execute_result"
    }
   ],
   "source": [
    "df.head(10)"
   ]
  },
  {
   "cell_type": "code",
   "execution_count": 213,
   "metadata": {},
   "outputs": [
    {
     "data": {
      "text/html": [
       "<div>\n",
       "<style scoped>\n",
       "    .dataframe tbody tr th:only-of-type {\n",
       "        vertical-align: middle;\n",
       "    }\n",
       "\n",
       "    .dataframe tbody tr th {\n",
       "        vertical-align: top;\n",
       "    }\n",
       "\n",
       "    .dataframe thead th {\n",
       "        text-align: right;\n",
       "    }\n",
       "</style>\n",
       "<table border=\"1\" class=\"dataframe\">\n",
       "  <thead>\n",
       "    <tr style=\"text-align: right;\">\n",
       "      <th></th>\n",
       "      <th>data</th>\n",
       "      <th>category</th>\n",
       "      <th>clean_text</th>\n",
       "      <th>tidy_tweet</th>\n",
       "    </tr>\n",
       "  </thead>\n",
       "  <tbody>\n",
       "    <tr>\n",
       "      <th>1252</th>\n",
       "      <td>Deaf basketball - One of several deaf sports, ...</td>\n",
       "      <td>sports</td>\n",
       "      <td>deaf basketball  one of several deaf sports de...</td>\n",
       "      <td>deaf basketball several deaf sports deaf baske...</td>\n",
       "    </tr>\n",
       "  </tbody>\n",
       "</table>\n",
       "</div>"
      ],
      "text/plain": [
       "                                                   data category  \\\n",
       "1252  Deaf basketball - One of several deaf sports, ...   sports   \n",
       "\n",
       "                                             clean_text  \\\n",
       "1252  deaf basketball  one of several deaf sports de...   \n",
       "\n",
       "                                             tidy_tweet  \n",
       "1252  deaf basketball several deaf sports deaf baske...  "
      ]
     },
     "execution_count": 213,
     "metadata": {},
     "output_type": "execute_result"
    }
   ],
   "source": [
    "df[1252:1253]"
   ]
  },
  {
   "cell_type": "code",
   "execution_count": 214,
   "metadata": {},
   "outputs": [
    {
     "data": {
      "text/plain": [
       "'youth have safe place after school hours they will likely into trouble receive poor grades drop school drugs alcohol'"
      ]
     },
     "execution_count": 214,
     "metadata": {},
     "output_type": "execute_result"
    }
   ],
   "source": [
    "df['tidy_tweet'][4252]"
   ]
  },
  {
   "cell_type": "code",
   "execution_count": 215,
   "metadata": {},
   "outputs": [
    {
     "name": "stdout",
     "output_type": "stream",
     "text": [
      "<class 'pandas.core.frame.DataFrame'>\n",
      "RangeIndex: 5434 entries, 0 to 5433\n",
      "Data columns (total 4 columns):\n",
      " #   Column      Non-Null Count  Dtype \n",
      "---  ------      --------------  ----- \n",
      " 0   data        5434 non-null   object\n",
      " 1   category    5434 non-null   object\n",
      " 2   clean_text  5434 non-null   object\n",
      " 3   tidy_tweet  5434 non-null   object\n",
      "dtypes: object(4)\n",
      "memory usage: 169.9+ KB\n"
     ]
    }
   ],
   "source": [
    "df.info()"
   ]
  },
  {
   "cell_type": "code",
   "execution_count": 216,
   "metadata": {},
   "outputs": [
    {
     "data": {
      "text/plain": [
       "data          0\n",
       "category      0\n",
       "clean_text    0\n",
       "tidy_tweet    0\n",
       "dtype: int64"
      ]
     },
     "execution_count": 216,
     "metadata": {},
     "output_type": "execute_result"
    }
   ],
   "source": [
    "df.isnull().sum()"
   ]
  },
  {
   "cell_type": "code",
   "execution_count": 217,
   "metadata": {},
   "outputs": [],
   "source": [
    "df.dropna(inplace=True)"
   ]
  },
  {
   "cell_type": "code",
   "execution_count": 218,
   "metadata": {},
   "outputs": [
    {
     "data": {
      "text/plain": [
       "[]"
      ]
     },
     "execution_count": 218,
     "metadata": {},
     "output_type": "execute_result"
    }
   ],
   "source": [
    "blancks = []\n",
    "for i,qn,x,y,b in df.itertuples():\n",
    "    if type(b) == str:\n",
    "        if b.isspace() or b=='':\n",
    "            blancks.append(i)\n",
    "blancks"
   ]
  },
  {
   "cell_type": "code",
   "execution_count": 219,
   "metadata": {},
   "outputs": [],
   "source": [
    "df.drop(blancks,inplace=True)"
   ]
  },
  {
   "cell_type": "code",
   "execution_count": 220,
   "metadata": {},
   "outputs": [
    {
     "name": "stdout",
     "output_type": "stream",
     "text": [
      "<class 'pandas.core.frame.DataFrame'>\n",
      "Int64Index: 5434 entries, 0 to 5433\n",
      "Data columns (total 4 columns):\n",
      " #   Column      Non-Null Count  Dtype \n",
      "---  ------      --------------  ----- \n",
      " 0   data        5434 non-null   object\n",
      " 1   category    5434 non-null   object\n",
      " 2   clean_text  5434 non-null   object\n",
      " 3   tidy_tweet  5434 non-null   object\n",
      "dtypes: object(4)\n",
      "memory usage: 341.3+ KB\n"
     ]
    }
   ],
   "source": [
    "df.info()"
   ]
  },
  {
   "cell_type": "code",
   "execution_count": 221,
   "metadata": {},
   "outputs": [],
   "source": [
    "from sklearn.feature_extraction.text import TfidfVectorizer\n",
    "tfidf = TfidfVectorizer(max_df=0.9,min_df=2,stop_words='english')"
   ]
  },
  {
   "cell_type": "code",
   "execution_count": 222,
   "metadata": {},
   "outputs": [],
   "source": [
    "dtm = tfidf.fit_transform(df['tidy_tweet'])"
   ]
  },
  {
   "cell_type": "code",
   "execution_count": 223,
   "metadata": {},
   "outputs": [
    {
     "data": {
      "text/plain": [
       "<5434x6091 sparse matrix of type '<class 'numpy.float64'>'\n",
       "\twith 54898 stored elements in Compressed Sparse Row format>"
      ]
     },
     "execution_count": 223,
     "metadata": {},
     "output_type": "execute_result"
    }
   ],
   "source": [
    "dtm"
   ]
  },
  {
   "cell_type": "code",
   "execution_count": 224,
   "metadata": {},
   "outputs": [],
   "source": [
    "from sklearn.decomposition import NMF"
   ]
  },
  {
   "cell_type": "code",
   "execution_count": 225,
   "metadata": {},
   "outputs": [],
   "source": [
    "nmf_model = NMF(n_components=3,random_state=42)"
   ]
  },
  {
   "cell_type": "code",
   "execution_count": 226,
   "metadata": {},
   "outputs": [
    {
     "name": "stderr",
     "output_type": "stream",
     "text": [
      "c:\\users\\asus\\appdata\\local\\programs\\python\\python37\\lib\\site-packages\\sklearn\\decomposition\\_nmf.py:315: FutureWarning: The 'init' value, when 'init=None' and n_components is less than n_samples and n_features, will be changed from 'nndsvd' to 'nndsvda' in 1.1 (renaming of 0.26).\n",
      "  \"'nndsvda' in 1.1 (renaming of 0.26).\"), FutureWarning)\n"
     ]
    },
    {
     "data": {
      "text/plain": [
       "NMF(n_components=3, random_state=42)"
      ]
     },
     "execution_count": 226,
     "metadata": {},
     "output_type": "execute_result"
    }
   ],
   "source": [
    "nmf_model.fit(dtm)"
   ]
  },
  {
   "cell_type": "code",
   "execution_count": 227,
   "metadata": {},
   "outputs": [
    {
     "name": "stdout",
     "output_type": "stream",
     "text": [
      "The words of NMF of high frequency of 0 is\n",
      "['world', 'international', 'england', 'popular', 'league', 'australian', 'teams', 'century', 'sports', 'play', 'cricket', 'sport', 'known', 'association', 'team', 'hockey', 'rugby', 'basketball', 'players', 'games', 'rules', 'ball', 'played', 'game', 'football']\n",
      "\n",
      "\n",
      "The words of NMF of high frequency of 1 is\n",
      "['cabinet', 'term', 'house', 'union', 'office', 'power', 'constitution', 'parliamentary', 'ministers', 'executive', 'republics', 'india', 'title', 'elected', 'council', 'parliament', 'state', 'republic', 'united', 'head', 'minister', 'prime', 'government', 'states', 'president']\n",
      "\n",
      "\n",
      "The words of NMF of high frequency of 2 is\n",
      "['forms', 'military', 'term', 'group', 'terrorist', 'according', 'attacks', 'politics', 'international', 'policy', 'people', 'used', 'health', 'islamic', 'groups', 'social', 'public', 'world', 'state', 'governance', 'alqaeda', 'terrorism', 'jihad', 'political', 'violence']\n",
      "\n",
      "\n"
     ]
    }
   ],
   "source": [
    "for i, arr in enumerate(nmf_model.components_):\n",
    "    print(f\"The words of NMF of high frequency of {i} is\")\n",
    "    print([tfidf.get_feature_names()[i] for i in arr.argsort()[-25:]])\n",
    "#     print(arr[4])\n",
    "    print('\\n')"
   ]
  },
  {
   "cell_type": "code",
   "execution_count": 228,
   "metadata": {},
   "outputs": [],
   "source": [
    "topic_sel = nmf_model.transform(dtm)"
   ]
  },
  {
   "cell_type": "code",
   "execution_count": 229,
   "metadata": {},
   "outputs": [
    {
     "data": {
      "text/plain": [
       "array([0.03414563, 0.        , 0.02181988])"
      ]
     },
     "execution_count": 229,
     "metadata": {},
     "output_type": "execute_result"
    }
   ],
   "source": [
    "topic_sel[0]"
   ]
  },
  {
   "cell_type": "code",
   "execution_count": 230,
   "metadata": {},
   "outputs": [],
   "source": [
    "g_df = []\n",
    "for j in range(0,3):\n",
    "    op= []\n",
    "    for i,data,cat,ct,tt in df.itertuples():\n",
    "        if(topic_sel[i].argmax()==j):\n",
    "            op.append(topic_sel[i].max())\n",
    "    g_df.append(op)\n",
    "# g_df[0]\n",
    "# g_df"
   ]
  },
  {
   "cell_type": "code",
   "execution_count": 231,
   "metadata": {},
   "outputs": [],
   "source": [
    "import matplotlib.pyplot as plt"
   ]
  },
  {
   "cell_type": "code",
   "execution_count": 232,
   "metadata": {},
   "outputs": [
    {
     "data": {
      "image/png": "[encoded data removed]",
      "text/plain": [
       "<Figure size 432x288 with 1 Axes>"
      ]
     },
     "metadata": {
      "needs_background": "light"
     },
     "output_type": "display_data"
    }
   ],
   "source": [
    "x =range(0,len(g_df[0]))\n",
    "y = g_df[0]\n",
    "plt.scatter(x,y)\n",
    "plt.show()"
   ]
  },
  {
   "cell_type": "code",
   "execution_count": 233,
   "metadata": {},
   "outputs": [
    {
     "data": {
      "image/png": "[encoded data removed]",
      "text/plain": [
       "<Figure size 432x288 with 1 Axes>"
      ]
     },
     "metadata": {
      "needs_background": "light"
     },
     "output_type": "display_data"
    }
   ],
   "source": [
    "x =range(0,len(g_df[1]))\n",
    "y = g_df[1]\n",
    "plt.scatter(x,y)\n",
    "plt.show()"
   ]
  },
  {
   "cell_type": "code",
   "execution_count": 234,
   "metadata": {},
   "outputs": [
    {
     "data": {
      "image/png": "[encoded data removed]",
      "text/plain": [
       "<Figure size 432x288 with 1 Axes>"
      ]
     },
     "metadata": {
      "needs_background": "light"
     },
     "output_type": "display_data"
    }
   ],
   "source": [
    "x =range(0,len(g_df[2]))\n",
    "y = g_df[2]\n",
    "plt.scatter(x,y)\n",
    "plt.show()"
   ]
  },
  {
   "cell_type": "code",
   "execution_count": 235,
   "metadata": {},
   "outputs": [
    {
     "data": {
      "text/html": [
       "<div>\n",
       "<style scoped>\n",
       "    .dataframe tbody tr th:only-of-type {\n",
       "        vertical-align: middle;\n",
       "    }\n",
       "\n",
       "    .dataframe tbody tr th {\n",
       "        vertical-align: top;\n",
       "    }\n",
       "\n",
       "    .dataframe thead th {\n",
       "        text-align: right;\n",
       "    }\n",
       "</style>\n",
       "<table border=\"1\" class=\"dataframe\">\n",
       "  <thead>\n",
       "    <tr style=\"text-align: right;\">\n",
       "      <th></th>\n",
       "      <th>data</th>\n",
       "      <th>category</th>\n",
       "      <th>clean_text</th>\n",
       "      <th>tidy_tweet</th>\n",
       "    </tr>\n",
       "  </thead>\n",
       "  <tbody>\n",
       "    <tr>\n",
       "      <th>3938</th>\n",
       "      <td>Since the rise of the state some 5,000 years ...</td>\n",
       "      <td>terrorism</td>\n",
       "      <td>since the rise of the state some 5000 years ag...</td>\n",
       "      <td>since rise state some years military activity ...</td>\n",
       "    </tr>\n",
       "    <tr>\n",
       "      <th>3939</th>\n",
       "      <td>The advent of gunpowder and the acceleration ...</td>\n",
       "      <td>terrorism</td>\n",
       "      <td>the advent of gunpowder and the acceleration o...</td>\n",
       "      <td>advent gunpowder acceleration technological ad...</td>\n",
       "    </tr>\n",
       "    <tr>\n",
       "      <th>3940</th>\n",
       "      <td>Henderson, \"One source claims that 14,500 war...</td>\n",
       "      <td>terrorism</td>\n",
       "      <td>henderson one source claims that 14500 wars ha...</td>\n",
       "      <td>henderson source claims that wars have taken p...</td>\n",
       "    </tr>\n",
       "    <tr>\n",
       "      <th>3941</th>\n",
       "      <td>5 billion lives, leaving only 300 years of pea...</td>\n",
       "      <td>terrorism</td>\n",
       "      <td>5 billion lives leaving only 300 years of peac...</td>\n",
       "      <td>billion lives leaving only years peace beer</td>\n",
       "    </tr>\n",
       "  </tbody>\n",
       "</table>\n",
       "</div>"
      ],
      "text/plain": [
       "                                                   data   category  \\\n",
       "3938   Since the rise of the state some 5,000 years ...  terrorism   \n",
       "3939   The advent of gunpowder and the acceleration ...  terrorism   \n",
       "3940   Henderson, \"One source claims that 14,500 war...  terrorism   \n",
       "3941  5 billion lives, leaving only 300 years of pea...  terrorism   \n",
       "\n",
       "                                             clean_text  \\\n",
       "3938  since the rise of the state some 5000 years ag...   \n",
       "3939  the advent of gunpowder and the acceleration o...   \n",
       "3940  henderson one source claims that 14500 wars ha...   \n",
       "3941  5 billion lives leaving only 300 years of peac...   \n",
       "\n",
       "                                             tidy_tweet  \n",
       "3938  since rise state some years military activity ...  \n",
       "3939  advent gunpowder acceleration technological ad...  \n",
       "3940  henderson source claims that wars have taken p...  \n",
       "3941        billion lives leaving only years peace beer  "
      ]
     },
     "execution_count": 235,
     "metadata": {},
     "output_type": "execute_result"
    }
   ],
   "source": [
    "df[3938:3942]"
   ]
  },
  {
   "cell_type": "code",
   "execution_count": 236,
   "metadata": {},
   "outputs": [],
   "source": [
    "vals={0:'sports',1:'politics',2:'terrorism'}"
   ]
  },
  {
   "cell_type": "code",
   "execution_count": 237,
   "metadata": {},
   "outputs": [],
   "source": [
    "df['topic']=topic_sel.argmax(axis=1)"
   ]
  },
  {
   "cell_type": "code",
   "execution_count": 238,
   "metadata": {},
   "outputs": [
    {
     "data": {
      "text/html": [
       "<div>\n",
       "<style scoped>\n",
       "    .dataframe tbody tr th:only-of-type {\n",
       "        vertical-align: middle;\n",
       "    }\n",
       "\n",
       "    .dataframe tbody tr th {\n",
       "        vertical-align: top;\n",
       "    }\n",
       "\n",
       "    .dataframe thead th {\n",
       "        text-align: right;\n",
       "    }\n",
       "</style>\n",
       "<table border=\"1\" class=\"dataframe\">\n",
       "  <thead>\n",
       "    <tr style=\"text-align: right;\">\n",
       "      <th></th>\n",
       "      <th>data</th>\n",
       "      <th>category</th>\n",
       "      <th>clean_text</th>\n",
       "      <th>tidy_tweet</th>\n",
       "      <th>topic</th>\n",
       "    </tr>\n",
       "  </thead>\n",
       "  <tbody>\n",
       "    <tr>\n",
       "      <th>0</th>\n",
       "      <td>Sport pertains to any form of competitive phys...</td>\n",
       "      <td>sports</td>\n",
       "      <td>sport pertains to any form of competitive phys...</td>\n",
       "      <td>sport pertains form competitive physical activ...</td>\n",
       "      <td>0</td>\n",
       "    </tr>\n",
       "    <tr>\n",
       "      <th>1</th>\n",
       "      <td>Sports can, through casual or organized parti...</td>\n",
       "      <td>sports</td>\n",
       "      <td>sports can through casual or organized partici...</td>\n",
       "      <td>sports through casual organized participation ...</td>\n",
       "      <td>2</td>\n",
       "    </tr>\n",
       "    <tr>\n",
       "      <th>2</th>\n",
       "      <td>Hundreds of sports exist, from those between ...</td>\n",
       "      <td>sports</td>\n",
       "      <td>hundreds of sports exist from those between si...</td>\n",
       "      <td>hundreds sports exist from those between singl...</td>\n",
       "      <td>0</td>\n",
       "    </tr>\n",
       "    <tr>\n",
       "      <th>3</th>\n",
       "      <td>In certain sports such as racing, many contes...</td>\n",
       "      <td>sports</td>\n",
       "      <td>in certain sports such as racing many contesta...</td>\n",
       "      <td>certain sports such racing many contestants co...</td>\n",
       "      <td>0</td>\n",
       "    </tr>\n",
       "    <tr>\n",
       "      <th>4</th>\n",
       "      <td>Some sports allow a \"tie\" or \"draw\", in which...</td>\n",
       "      <td>sports</td>\n",
       "      <td>some sports allow a tie or draw in which there...</td>\n",
       "      <td>some sports allow draw which there single winn...</td>\n",
       "      <td>0</td>\n",
       "    </tr>\n",
       "  </tbody>\n",
       "</table>\n",
       "</div>"
      ],
      "text/plain": [
       "                                                data category  \\\n",
       "0  Sport pertains to any form of competitive phys...   sports   \n",
       "1   Sports can, through casual or organized parti...   sports   \n",
       "2   Hundreds of sports exist, from those between ...   sports   \n",
       "3   In certain sports such as racing, many contes...   sports   \n",
       "4   Some sports allow a \"tie\" or \"draw\", in which...   sports   \n",
       "\n",
       "                                          clean_text  \\\n",
       "0  sport pertains to any form of competitive phys...   \n",
       "1  sports can through casual or organized partici...   \n",
       "2  hundreds of sports exist from those between si...   \n",
       "3  in certain sports such as racing many contesta...   \n",
       "4  some sports allow a tie or draw in which there...   \n",
       "\n",
       "                                          tidy_tweet  topic  \n",
       "0  sport pertains form competitive physical activ...      0  \n",
       "1  sports through casual organized participation ...      2  \n",
       "2  hundreds sports exist from those between singl...      0  \n",
       "3  certain sports such racing many contestants co...      0  \n",
       "4  some sports allow draw which there single winn...      0  "
      ]
     },
     "execution_count": 238,
     "metadata": {},
     "output_type": "execute_result"
    }
   ],
   "source": [
    "df.head()"
   ]
  },
  {
   "cell_type": "code",
   "execution_count": 239,
   "metadata": {},
   "outputs": [],
   "source": [
    "df['category_decided']=df['topic'].map(vals)"
   ]
  },
  {
   "cell_type": "code",
   "execution_count": 240,
   "metadata": {},
   "outputs": [
    {
     "data": {
      "text/plain": [
       "(5434, 6)"
      ]
     },
     "execution_count": 240,
     "metadata": {},
     "output_type": "execute_result"
    }
   ],
   "source": [
    "df.shape"
   ]
  },
  {
   "cell_type": "code",
   "execution_count": 241,
   "metadata": {},
   "outputs": [],
   "source": [
    "# val=0\n",
    "# for i,data,cat,ct,tt,t,cd in df.itertuples():\n",
    "#     if(val<=100):\n",
    "#         if(cat=='politics'):\n",
    "#             if(cd==\"terrorism\"):\n",
    "#                 df.drop(i,inplace= True)\n",
    "#                 val+=1"
   ]
  },
  {
   "cell_type": "code",
   "execution_count": 242,
   "metadata": {},
   "outputs": [
    {
     "data": {
      "text/plain": [
       "(5434, 6)"
      ]
     },
     "execution_count": 242,
     "metadata": {},
     "output_type": "execute_result"
    }
   ],
   "source": [
    "df.shape"
   ]
  },
  {
   "cell_type": "code",
   "execution_count": 243,
   "metadata": {},
   "outputs": [
    {
     "data": {
      "text/html": [
       "<div>\n",
       "<style scoped>\n",
       "    .dataframe tbody tr th:only-of-type {\n",
       "        vertical-align: middle;\n",
       "    }\n",
       "\n",
       "    .dataframe tbody tr th {\n",
       "        vertical-align: top;\n",
       "    }\n",
       "\n",
       "    .dataframe thead th {\n",
       "        text-align: right;\n",
       "    }\n",
       "</style>\n",
       "<table border=\"1\" class=\"dataframe\">\n",
       "  <thead>\n",
       "    <tr style=\"text-align: right;\">\n",
       "      <th></th>\n",
       "      <th>data</th>\n",
       "      <th>category</th>\n",
       "      <th>clean_text</th>\n",
       "      <th>tidy_tweet</th>\n",
       "      <th>topic</th>\n",
       "      <th>category_decided</th>\n",
       "    </tr>\n",
       "  </thead>\n",
       "  <tbody>\n",
       "    <tr>\n",
       "      <th>0</th>\n",
       "      <td>Sport pertains to any form of competitive phys...</td>\n",
       "      <td>sports</td>\n",
       "      <td>sport pertains to any form of competitive phys...</td>\n",
       "      <td>sport pertains form competitive physical activ...</td>\n",
       "      <td>0</td>\n",
       "      <td>sports</td>\n",
       "    </tr>\n",
       "    <tr>\n",
       "      <th>1</th>\n",
       "      <td>Sports can, through casual or organized parti...</td>\n",
       "      <td>sports</td>\n",
       "      <td>sports can through casual or organized partici...</td>\n",
       "      <td>sports through casual organized participation ...</td>\n",
       "      <td>2</td>\n",
       "      <td>terrorism</td>\n",
       "    </tr>\n",
       "    <tr>\n",
       "      <th>2</th>\n",
       "      <td>Hundreds of sports exist, from those between ...</td>\n",
       "      <td>sports</td>\n",
       "      <td>hundreds of sports exist from those between si...</td>\n",
       "      <td>hundreds sports exist from those between singl...</td>\n",
       "      <td>0</td>\n",
       "      <td>sports</td>\n",
       "    </tr>\n",
       "    <tr>\n",
       "      <th>3</th>\n",
       "      <td>In certain sports such as racing, many contes...</td>\n",
       "      <td>sports</td>\n",
       "      <td>in certain sports such as racing many contesta...</td>\n",
       "      <td>certain sports such racing many contestants co...</td>\n",
       "      <td>0</td>\n",
       "      <td>sports</td>\n",
       "    </tr>\n",
       "    <tr>\n",
       "      <th>4</th>\n",
       "      <td>Some sports allow a \"tie\" or \"draw\", in which...</td>\n",
       "      <td>sports</td>\n",
       "      <td>some sports allow a tie or draw in which there...</td>\n",
       "      <td>some sports allow draw which there single winn...</td>\n",
       "      <td>0</td>\n",
       "      <td>sports</td>\n",
       "    </tr>\n",
       "    <tr>\n",
       "      <th>...</th>\n",
       "      <td>...</td>\n",
       "      <td>...</td>\n",
       "      <td>...</td>\n",
       "      <td>...</td>\n",
       "      <td>...</td>\n",
       "      <td>...</td>\n",
       "    </tr>\n",
       "    <tr>\n",
       "      <th>5429</th>\n",
       "      <td>In mid-2014 after the Islamic State of Iraq an...</td>\n",
       "      <td>terrorism</td>\n",
       "      <td>in mid2014 after the islamic state of iraq and...</td>\n",
       "      <td>after islamic state iraq levant declared that ...</td>\n",
       "      <td>2</td>\n",
       "      <td>terrorism</td>\n",
       "    </tr>\n",
       "    <tr>\n",
       "      <th>5430</th>\n",
       "      <td>\" The speech included a religious refutation o...</td>\n",
       "      <td>terrorism</td>\n",
       "      <td>the speech included a religious refutation of...</td>\n",
       "      <td>speech included religious refutation alqaeda b...</td>\n",
       "      <td>2</td>\n",
       "      <td>terrorism</td>\n",
       "    </tr>\n",
       "    <tr>\n",
       "      <th>5431</th>\n",
       "      <td>\" He also recalled a past instance in which Os...</td>\n",
       "      <td>terrorism</td>\n",
       "      <td>he also recalled a past instance in which osa...</td>\n",
       "      <td>also recalled past instance which osama laden ...</td>\n",
       "      <td>2</td>\n",
       "      <td>terrorism</td>\n",
       "    </tr>\n",
       "    <tr>\n",
       "      <th>5432</th>\n",
       "      <td>Zawahiri was encouraging factionalism and div...</td>\n",
       "      <td>terrorism</td>\n",
       "      <td>zawahiri was encouraging factionalism and divi...</td>\n",
       "      <td>zawahiri encouraging factionalism division bet...</td>\n",
       "      <td>2</td>\n",
       "      <td>terrorism</td>\n",
       "    </tr>\n",
       "    <tr>\n",
       "      <th>5433</th>\n",
       "      <td>17 de-classified documents captured during the...</td>\n",
       "      <td>terrorism</td>\n",
       "      <td>17 declassified documents captured during the ...</td>\n",
       "      <td>declassified documents captured during abbotta...</td>\n",
       "      <td>2</td>\n",
       "      <td>terrorism</td>\n",
       "    </tr>\n",
       "  </tbody>\n",
       "</table>\n",
       "<p>5434 rows × 6 columns</p>\n",
       "</div>"
      ],
      "text/plain": [
       "                                                   data   category  \\\n",
       "0     Sport pertains to any form of competitive phys...     sports   \n",
       "1      Sports can, through casual or organized parti...     sports   \n",
       "2      Hundreds of sports exist, from those between ...     sports   \n",
       "3      In certain sports such as racing, many contes...     sports   \n",
       "4      Some sports allow a \"tie\" or \"draw\", in which...     sports   \n",
       "...                                                 ...        ...   \n",
       "5429  In mid-2014 after the Islamic State of Iraq an...  terrorism   \n",
       "5430  \" The speech included a religious refutation o...  terrorism   \n",
       "5431  \" He also recalled a past instance in which Os...  terrorism   \n",
       "5432   Zawahiri was encouraging factionalism and div...  terrorism   \n",
       "5433  17 de-classified documents captured during the...  terrorism   \n",
       "\n",
       "                                             clean_text  \\\n",
       "0     sport pertains to any form of competitive phys...   \n",
       "1     sports can through casual or organized partici...   \n",
       "2     hundreds of sports exist from those between si...   \n",
       "3     in certain sports such as racing many contesta...   \n",
       "4     some sports allow a tie or draw in which there...   \n",
       "...                                                 ...   \n",
       "5429  in mid2014 after the islamic state of iraq and...   \n",
       "5430   the speech included a religious refutation of...   \n",
       "5431   he also recalled a past instance in which osa...   \n",
       "5432  zawahiri was encouraging factionalism and divi...   \n",
       "5433  17 declassified documents captured during the ...   \n",
       "\n",
       "                                             tidy_tweet  topic  \\\n",
       "0     sport pertains form competitive physical activ...      0   \n",
       "1     sports through casual organized participation ...      2   \n",
       "2     hundreds sports exist from those between singl...      0   \n",
       "3     certain sports such racing many contestants co...      0   \n",
       "4     some sports allow draw which there single winn...      0   \n",
       "...                                                 ...    ...   \n",
       "5429  after islamic state iraq levant declared that ...      2   \n",
       "5430  speech included religious refutation alqaeda b...      2   \n",
       "5431  also recalled past instance which osama laden ...      2   \n",
       "5432  zawahiri encouraging factionalism division bet...      2   \n",
       "5433  declassified documents captured during abbotta...      2   \n",
       "\n",
       "     category_decided  \n",
       "0              sports  \n",
       "1           terrorism  \n",
       "2              sports  \n",
       "3              sports  \n",
       "4              sports  \n",
       "...               ...  \n",
       "5429        terrorism  \n",
       "5430        terrorism  \n",
       "5431        terrorism  \n",
       "5432        terrorism  \n",
       "5433        terrorism  \n",
       "\n",
       "[5434 rows x 6 columns]"
      ]
     },
     "execution_count": 243,
     "metadata": {},
     "output_type": "execute_result"
    }
   ],
   "source": [
    "df"
   ]
  },
  {
   "cell_type": "code",
   "execution_count": 244,
   "metadata": {},
   "outputs": [
    {
     "name": "stdout",
     "output_type": "stream",
     "text": [
      "0.7782480677217519\n"
     ]
    }
   ],
   "source": [
    "print(accuracy_score(df['category'],df['category_decided']))"
   ]
  },
  {
   "cell_type": "code",
   "execution_count": 245,
   "metadata": {},
   "outputs": [
    {
     "name": "stdout",
     "output_type": "stream",
     "text": [
      "              precision    recall  f1-score   support\n",
      "\n",
      "    politics       0.83      0.57      0.68      1801\n",
      "      sports       0.96      0.84      0.89      1784\n",
      "   terrorism       0.65      0.92      0.76      1849\n",
      "\n",
      "    accuracy                           0.78      5434\n",
      "   macro avg       0.81      0.78      0.78      5434\n",
      "weighted avg       0.81      0.78      0.78      5434\n",
      "\n"
     ]
    }
   ],
   "source": [
    "print(classification_report(df['category'],df['category_decided']))"
   ]
  },
  {
   "cell_type": "code",
   "execution_count": 246,
   "metadata": {},
   "outputs": [
    {
     "name": "stdout",
     "output_type": "stream",
     "text": [
      "[[1035   43  723]\n",
      " [  82 1491  211]\n",
      " [ 126   20 1703]]\n"
     ]
    }
   ],
   "source": [
    "print(confusion_matrix(df['category'],df['category_decided']))"
   ]
  },
  {
   "cell_type": "code",
   "execution_count": null,
   "metadata": {},
   "outputs": [],
   "source": []
  },
  {
   "cell_type": "code",
   "execution_count": null,
   "metadata": {},
   "outputs": [],
   "source": []
  },
  {
   "cell_type": "code",
   "execution_count": 247,
   "metadata": {},
   "outputs": [],
   "source": [
    "from sklearn.model_selection import train_test_split\n",
    "x_train,x_test,y_train,y_test = train_test_split(df['data'],df['category_decided'],test_size=0.33,random_state=42)"
   ]
  },
  {
   "cell_type": "code",
   "execution_count": 248,
   "metadata": {},
   "outputs": [],
   "source": [
    "from sklearn.feature_extraction.text import TfidfVectorizer\n",
    "tf_vect = TfidfVectorizer()"
   ]
  },
  {
   "cell_type": "code",
   "execution_count": 249,
   "metadata": {},
   "outputs": [],
   "source": [
    "from sklearn.svm import LinearSVC\n",
    "lin_svc = LinearSVC()"
   ]
  },
  {
   "cell_type": "code",
   "execution_count": 250,
   "metadata": {},
   "outputs": [],
   "source": [
    "from sklearn.pipeline import Pipeline\n",
    "rt = Pipeline([('tfidf',TfidfVectorizer(stop_words='english')),('lin_svc',LinearSVC())])"
   ]
  },
  {
   "cell_type": "code",
   "execution_count": 251,
   "metadata": {},
   "outputs": [
    {
     "data": {
      "text/plain": [
       "Pipeline(steps=[('tfidf', TfidfVectorizer(stop_words='english')),\n",
       "                ('lin_svc', LinearSVC())])"
      ]
     },
     "execution_count": 251,
     "metadata": {},
     "output_type": "execute_result"
    }
   ],
   "source": [
    "rt.fit(x_train,y_train)"
   ]
  },
  {
   "cell_type": "code",
   "execution_count": 252,
   "metadata": {},
   "outputs": [],
   "source": [
    "op = rt.predict(x_test)"
   ]
  },
  {
   "cell_type": "code",
   "execution_count": 253,
   "metadata": {},
   "outputs": [],
   "source": [
    "from sklearn.metrics import accuracy_score,classification_report,confusion_matrix"
   ]
  },
  {
   "cell_type": "code",
   "execution_count": 254,
   "metadata": {},
   "outputs": [
    {
     "data": {
      "text/plain": [
       "0.9063545150501672"
      ]
     },
     "execution_count": 254,
     "metadata": {},
     "output_type": "execute_result"
    }
   ],
   "source": [
    "accuracy_score(op,y_test)"
   ]
  },
  {
   "cell_type": "code",
   "execution_count": 255,
   "metadata": {},
   "outputs": [
    {
     "data": {
      "text/plain": [
       "array(['sports'], dtype=object)"
      ]
     },
     "execution_count": 255,
     "metadata": {},
     "output_type": "execute_result"
    }
   ],
   "source": [
    "rt.predict([\"hi i love to play football.\"])"
   ]
  },
  {
   "cell_type": "code",
   "execution_count": null,
   "metadata": {},
   "outputs": [],
   "source": []
  }
 ],
 "metadata": {
  "kernelspec": {
   "display_name": "Python 3",
   "language": "python",
   "name": "python3"
  },
  "language_info": {
   "codemirror_mode": {
    "name": "ipython",
    "version": 3
   },
   "file_extension": ".py",
   "mimetype": "text/x-python",
   "name": "python",
   "nbconvert_exporter": "python",
   "pygments_lexer": "ipython3",
   "version": "3.7.5"
  },
  "latex_envs": {
   "LaTeX_envs_menu_present": true,
   "autoclose": false,
   "autocomplete": true,
   "bibliofile": "biblio.bib",
   "cite_by": "apalike",
   "current_citInitial": 1,
   "eqLabelWithNumbers": true,
   "eqNumInitial": 1,
   "hotkeys": {
    "equation": "Ctrl-E",
    "itemize": "Ctrl-I"
   },
   "labels_anchors": false,
   "latex_user_defs": false,
   "report_style_numbering": false,
   "user_envs_cfg": false
  }
 },
 "nbformat": 4,
 "nbformat_minor": 5
}
